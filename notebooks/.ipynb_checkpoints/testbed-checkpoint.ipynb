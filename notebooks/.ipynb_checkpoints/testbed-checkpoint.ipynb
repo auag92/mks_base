{
 "cells": [
  {
   "cell_type": "code",
   "execution_count": 3,
   "metadata": {
    "collapsed": true
   },
   "outputs": [],
   "source": [
    "%matplotlib inline  \n",
    "%load_ext autoreload\n",
    "%autoreload 2"
   ]
  },
  {
   "cell_type": "code",
   "execution_count": 1,
   "metadata": {
    "collapsed": true
   },
   "outputs": [],
   "source": [
    "import numpy as np\n",
    "import math"
   ]
  },
  {
   "cell_type": "code",
   "execution_count": 7,
   "metadata": {},
   "outputs": [],
   "source": [
    "from toolz.curried import curry\n",
    "from toolz.curried import map\n",
    "from toolz.curried import pipe"
   ]
  },
  {
   "cell_type": "code",
   "execution_count": 138,
   "metadata": {},
   "outputs": [],
   "source": [
    "fft = curry(np.fft.fft)  # pylint: disable=invalid-name\n",
    "\n",
    "ifft = curry(np.fft.ifft)  # pylint: disable=invalid-name\n",
    "\n",
    "fftn = curry(np.fft.fftn)  # pylint: disable=invalid-name\n",
    "\n",
    "ifftn = curry(np.fft.ifftn)  # pylint: disable=invalid-name\n",
    "\n",
    "fftshift = curry(np.fft.fftshift)  # pylint: disable=invalid-name\n",
    "\n",
    "conj = curry(np.conj)\n",
    "\n",
    "\n",
    "@curry\n",
    "def return_slice(x_data, cutoff):\n",
    "    \n",
    "    s = np.asarray(x_data.shape).astype(int) // 2 + 1\n",
    "    \n",
    "    if x_data.ndim == 2:\n",
    "        return x_data[(s[0] - cutoff):(s[0] + cutoff), \n",
    "                      (s[1] - cutoff):(s[1] + cutoff)]\n",
    "    elif x_data.ndim ==3:\n",
    "        return x_data[(s[0] - cutoff):(s[0] + cutoff), \n",
    "                      (s[1] - cutoff):(s[1] + cutoff), \n",
    "                      (s[2] - cutoff):(s[2] + cutoff)]\n",
    "    else:\n",
    "        print('Incorrect Number of Dimensions!')\n",
    "\n",
    "        \n",
    "@curry\n",
    "def corr_master(x_data, func):\n",
    "    return pipe(x_data, \n",
    "            fftn, \n",
    "            conj, \n",
    "            func, \n",
    "            ifftn, \n",
    "            fftshift, \n",
    "            return_slice(cutoff = cutoff))\n",
    "\n",
    "\n",
    "@curry        \n",
    "def corr_master(corrtype, cutoff, *args):\n",
    "\n",
    "    if corrtype == 'auto':\n",
    "        return pipe(args[0], \n",
    "                    fftn, \n",
    "                    lambda x: x*conj(x), \n",
    "                    ifftn, \n",
    "                    fftshift, \n",
    "                    return_slice(cutoff=cutoff))\n",
    "    \n",
    "    elif corrtype == 'cross': \n",
    "        return pipe(args[0], \n",
    "                    fftn, \n",
    "                    conj, \n",
    "                    lambda x: x * fftn(args[1]), \n",
    "                    ifftn, \n",
    "                    fftshift, \n",
    "                    return_slice(cutoff = cutoff))\n",
    "    else:\n",
    "        print(\"Please either <Auto> or <Cross> as correlation type\")"
   ]
  },
  {
   "cell_type": "code",
   "execution_count": 137,
   "metadata": {},
   "outputs": [
    {
     "ename": "TypeError",
     "evalue": "bad operand type for abs(): 'curry'",
     "output_type": "error",
     "traceback": [
      "\u001b[0;31m---------------------------------------------------------------------------\u001b[0m",
      "\u001b[0;31mTypeError\u001b[0m                                 Traceback (most recent call last)",
      "\u001b[0;32m<ipython-input-137-c7debfb2d708>\u001b[0m in \u001b[0;36m<module>\u001b[0;34m()\u001b[0m\n\u001b[1;32m      4\u001b[0m \u001b[0mnp\u001b[0m\u001b[0;34m.\u001b[0m\u001b[0mrandom\u001b[0m\u001b[0;34m.\u001b[0m\u001b[0mseed\u001b[0m\u001b[0;34m(\u001b[0m\u001b[0;36m99\u001b[0m\u001b[0;34m)\u001b[0m\u001b[0;34m\u001b[0m\u001b[0m\n\u001b[1;32m      5\u001b[0m \u001b[0my\u001b[0m \u001b[0;34m=\u001b[0m \u001b[0;34m(\u001b[0m\u001b[0mnp\u001b[0m\u001b[0;34m.\u001b[0m\u001b[0mrandom\u001b[0m\u001b[0;34m.\u001b[0m\u001b[0mrandom\u001b[0m\u001b[0;34m(\u001b[0m\u001b[0ms\u001b[0m\u001b[0;34m)\u001b[0m \u001b[0;34m>\u001b[0m \u001b[0;36m0.5\u001b[0m\u001b[0;34m)\u001b[0m\u001b[0;34m.\u001b[0m\u001b[0mastype\u001b[0m\u001b[0;34m(\u001b[0m\u001b[0mint\u001b[0m\u001b[0;34m)\u001b[0m\u001b[0;34m\u001b[0m\u001b[0m\n\u001b[0;32m----> 6\u001b[0;31m \u001b[0mgg\u001b[0m \u001b[0;34m=\u001b[0m \u001b[0mabs\u001b[0m\u001b[0;34m(\u001b[0m\u001b[0mcorr_master\u001b[0m\u001b[0;34m(\u001b[0m\u001b[0;34m'auto'\u001b[0m\u001b[0;34m,\u001b[0m \u001b[0;36m3\u001b[0m\u001b[0;34m,\u001b[0m \u001b[0mx\u001b[0m\u001b[0;34m)\u001b[0m\u001b[0;34m)\u001b[0m\u001b[0;34m/\u001b[0m\u001b[0mx\u001b[0m\u001b[0;34m.\u001b[0m\u001b[0msize\u001b[0m\u001b[0;34m\u001b[0m\u001b[0m\n\u001b[0m\u001b[1;32m      7\u001b[0m \u001b[0mgg_\u001b[0m \u001b[0;34m=\u001b[0m \u001b[0mabs\u001b[0m\u001b[0;34m(\u001b[0m\u001b[0mcorr_master\u001b[0m\u001b[0;34m(\u001b[0m\u001b[0;34m'cross'\u001b[0m\u001b[0;34m,\u001b[0m \u001b[0;36m3\u001b[0m\u001b[0;34m,\u001b[0m \u001b[0mx\u001b[0m\u001b[0;34m,\u001b[0m \u001b[0my\u001b[0m\u001b[0;34m)\u001b[0m\u001b[0;34m)\u001b[0m\u001b[0;34m/\u001b[0m\u001b[0mx\u001b[0m\u001b[0;34m.\u001b[0m\u001b[0msize\u001b[0m\u001b[0;34m\u001b[0m\u001b[0m\n\u001b[1;32m      8\u001b[0m \u001b[0mprint\u001b[0m\u001b[0;34m(\u001b[0m\u001b[0mnp\u001b[0m\u001b[0;34m.\u001b[0m\u001b[0mallclose\u001b[0m\u001b[0;34m(\u001b[0m\u001b[0mgg\u001b[0m\u001b[0;34m,\u001b[0m \u001b[0mgg1\u001b[0m\u001b[0;34m)\u001b[0m\u001b[0;34m)\u001b[0m\u001b[0;34m\u001b[0m\u001b[0m\n",
      "\u001b[0;31mTypeError\u001b[0m: bad operand type for abs(): 'curry'"
     ]
    }
   ],
   "source": [
    "np.random.seed(101)\n",
    "s = (5, 5)\n",
    "x = (np.random.random(s) > 0.5).astype(int)\n",
    "np.random.seed(99)\n",
    "y = (np.random.random(s) > 0.5).astype(int)\n",
    "gg = abs(corr_master('auto', 3, x))/x.size\n",
    "gg_ = abs(corr_master('cross', 3, x, y))/x.size\n",
    "print(np.allclose(gg, gg1))\n",
    "print(np.allclose(gg_, gg2))"
   ]
  },
  {
   "cell_type": "code",
   "execution_count": 125,
   "metadata": {},
   "outputs": [
    {
     "name": "stdout",
     "output_type": "stream",
     "text": [
      "[[1 1 0 0 1]\n",
      " [1 0 1 1 0]\n",
      " [1 0 0 1 1]\n",
      " [0 0 1 1 0]\n",
      " [1 1 0 0 0]]\n",
      "[[ 0.32  0.24  0.24  0.24  0.28]\n",
      " [ 0.24  0.2   0.24  0.32  0.36]\n",
      " [ 0.16  0.28  0.52  0.28  0.16]\n",
      " [ 0.36  0.32  0.24  0.2   0.24]\n",
      " [ 0.28  0.24  0.24  0.24  0.32]]\n",
      "[[ 0.28  0.28  0.32  0.36  0.24]\n",
      " [ 0.28  0.28  0.28  0.24  0.36]\n",
      " [ 0.32  0.24  0.32  0.32  0.24]\n",
      " [ 0.28  0.36  0.2   0.32  0.28]\n",
      " [ 0.24  0.36  0.32  0.28  0.28]]\n"
     ]
    }
   ],
   "source": [
    "print(x1)\n",
    "print(gg1)\n",
    "print(gg2)"
   ]
  }
 ],
 "metadata": {
  "kernelspec": {
   "display_name": "Python 3",
   "language": "python",
   "name": "python3"
  },
  "language_info": {
   "codemirror_mode": {
    "name": "ipython",
    "version": 3
   },
   "file_extension": ".py",
   "mimetype": "text/x-python",
   "name": "python",
   "nbconvert_exporter": "python",
   "pygments_lexer": "ipython3",
   "version": "3.6.1"
  }
 },
 "nbformat": 4,
 "nbformat_minor": 2
}
