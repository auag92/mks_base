{
 "cells": [
  {
   "cell_type": "code",
   "execution_count": 3,
   "metadata": {
    "collapsed": true
   },
   "outputs": [],
   "source": [
    "%matplotlib inline  \n",
    "%load_ext autoreload\n",
    "%autoreload 2"
   ]
  },
  {
   "cell_type": "code",
   "execution_count": 1,
   "metadata": {
    "collapsed": true
   },
   "outputs": [],
   "source": [
    "import numpy as np\n",
    "import math"
   ]
  },
  {
   "cell_type": "code",
   "execution_count": 7,
   "metadata": {},
   "outputs": [],
   "source": [
    "from toolz.curried import curry\n",
    "from toolz.curried import map\n",
    "from toolz.curried import pipe"
   ]
  },
  {
   "cell_type": "code",
   "execution_count": 199,
   "metadata": {},
   "outputs": [],
   "source": [
    "fft = curry(np.fft.fft)  # pylint: disable=invalid-name\n",
    "\n",
    "ifft = curry(np.fft.ifft)  # pylint: disable=invalid-name\n",
    "\n",
    "fftn = curry(np.fft.fftn)  # pylint: disable=invalid-name\n",
    "\n",
    "ifftn = curry(np.fft.ifftn)  # pylint: disable=invalid-name\n",
    "\n",
    "fftshift = curry(np.fft.fftshift)  # pylint: disable=invalid-name\n",
    "\n",
    "conj = curry(np.conj)\n",
    "\n",
    "func = curry(lambda x, y: conj(x) * fftn(y))\n",
    "\n",
    "@curry\n",
    "def return_slice(x_data, cutoff):\n",
    "    \n",
    "    s = np.asarray(x_data.shape).astype(int) // 2 + 1\n",
    "    \n",
    "    if x_data.ndim == 2:\n",
    "        return x_data[(s[0] - cutoff):(s[0] + cutoff), \n",
    "                      (s[1] - cutoff):(s[1] + cutoff)]\n",
    "    elif x_data.ndim ==3:\n",
    "        return x_data[(s[0] - cutoff):(s[0] + cutoff), \n",
    "                      (s[1] - cutoff):(s[1] + cutoff), \n",
    "                      (s[2] - cutoff):(s[2] + cutoff)]\n",
    "    else:\n",
    "        print('Incorrect Number of Dimensions!')\n",
    "\n",
    "        \n",
    "@curry\n",
    "def corr_master_(x_data, cutoff, func):\n",
    "    return pipe(x_data,\n",
    "                fftn,\n",
    "                func, \n",
    "                ifftn, \n",
    "                fftshift, \n",
    "                return_slice(cutoff=cutoff))\n",
    "\n",
    "\n",
    "@curry        \n",
    "def corr_master_auto(cutoff, *args):\n",
    "    return pipe(args[0],\n",
    "                fftn,\n",
    "                lambda x: conj(x)*x, \n",
    "                ifftn, \n",
    "                fftshift, \n",
    "                return_slice(cutoff=cutoff))\n",
    "    \n",
    "@curry        \n",
    "def corr_master_cross(cutoff, *args):\n",
    "    return pipe(args[0], \n",
    "                fftn, \n",
    "                lambda x: conj(x) * fftn(args[1]), \n",
    "                ifftn, \n",
    "                fftshift, \n",
    "                return_slice(cutoff = cutoff))\n",
    "\n",
    "# @curry        \n",
    "# def corr_master_cross(cutoff, *args):\n",
    "#     return pipe(args[0], \n",
    "#                corr_master_(cutoff=cutoff, func=func(y=args[1])))\n",
    "\n",
    "    \n",
    "@curry        \n",
    "def corr_master(corrtype, cutoff, *args):\n",
    "\n",
    "    if corrtype == 'auto':\n",
    "        return corr_master_auto(cutoff, *args) \n",
    "    elif corrtype == 'cross': \n",
    "        return corr_master_cross(cutoff, *args)\n",
    "    else:\n",
    "        print(\"Please either <Auto> or <Cross> as correlation type\")"
   ]
  },
  {
   "cell_type": "code",
   "execution_count": 206,
   "metadata": {},
   "outputs": [
    {
     "name": "stdout",
     "output_type": "stream",
     "text": [
      "True\n",
      "True\n"
     ]
    }
   ],
   "source": [
    "gg1 = np.load('gg1.npy')\n",
    "gg2 = np.load('gg2.npy')\n",
    "np.random.seed(101)\n",
    "s = (5, 5)\n",
    "x = (np.random.random(s) > 0.5).astype(int)\n",
    "np.random.seed(99)\n",
    "y = (np.random.random(s) > 0.5).astype(int)\n",
    "gg = abs(corr_master('auto', 3, x))/x.size\n",
    "gg_ = abs(corr_master('cross', 3, x, y))/x.size\n",
    "print(np.allclose(gg, gg1))\n",
    "print(np.allclose(gg_, gg2))"
   ]
  },
  {
   "cell_type": "code",
   "execution_count": 125,
   "metadata": {},
   "outputs": [
    {
     "name": "stdout",
     "output_type": "stream",
     "text": [
      "[[1 1 0 0 1]\n",
      " [1 0 1 1 0]\n",
      " [1 0 0 1 1]\n",
      " [0 0 1 1 0]\n",
      " [1 1 0 0 0]]\n",
      "[[ 0.32  0.24  0.24  0.24  0.28]\n",
      " [ 0.24  0.2   0.24  0.32  0.36]\n",
      " [ 0.16  0.28  0.52  0.28  0.16]\n",
      " [ 0.36  0.32  0.24  0.2   0.24]\n",
      " [ 0.28  0.24  0.24  0.24  0.32]]\n",
      "[[ 0.28  0.28  0.32  0.36  0.24]\n",
      " [ 0.28  0.28  0.28  0.24  0.36]\n",
      " [ 0.32  0.24  0.32  0.32  0.24]\n",
      " [ 0.28  0.36  0.2   0.32  0.28]\n",
      " [ 0.24  0.36  0.32  0.28  0.28]]\n"
     ]
    }
   ],
   "source": [
    "print(x1)\n",
    "print(gg1)\n",
    "print(gg2)"
   ]
  },
  {
   "cell_type": "code",
   "execution_count": 204,
   "metadata": {
    "collapsed": true
   },
   "outputs": [],
   "source": [
    "np.save('gg1', gg1)\n",
    "np.save('gg2', gg2)\n",
    "np.save()"
   ]
  }
 ],
 "metadata": {
  "kernelspec": {
   "display_name": "Python 3",
   "language": "python",
   "name": "python3"
  },
  "language_info": {
   "codemirror_mode": {
    "name": "ipython",
    "version": 3
   },
   "file_extension": ".py",
   "mimetype": "text/x-python",
   "name": "python",
   "nbconvert_exporter": "python",
   "pygments_lexer": "ipython3",
   "version": "3.6.1"
  }
 },
 "nbformat": 4,
 "nbformat_minor": 2
}
